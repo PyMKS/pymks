{
 "cells": [
  {
   "cell_type": "code",
   "execution_count": 1,
   "metadata": {},
   "outputs": [],
   "source": [
    "import numpy as np\n",
    "import dask.array as da\n",
    "from pymks.fmks.correlations import auto_correlation\n",
    "from pymks.fmks.pair_correlations import dist_from_center, paircorr_from_twopoint"
   ]
  },
  {
   "cell_type": "markdown",
   "metadata": {},
   "source": [
    "## Check that the dist_from_center function works\n",
    "\n",
    "The maximum value of a two-point correlation will occur at the center. Therefore, if I find the max along the sample axis of the two point correlations and I compare that to the value where the distance is 0- then those two values should match.\n",
    "\n",
    "The below test is for two samples of a 3-dimensional structure."
   ]
  },
  {
   "cell_type": "code",
   "execution_count": 2,
   "metadata": {},
   "outputs": [
    {
     "data": {
      "text/plain": [
       "(2, 3, 3, 3)"
      ]
     },
     "execution_count": 2,
     "metadata": {},
     "output_type": "execute_result"
    }
   ],
   "source": [
    "C = da.random.randint(0,2, [2,3,3,3])\n",
    "\n",
    "# 2 samples, 3x4 grids\n",
    "C.shape"
   ]
  },
  {
   "cell_type": "code",
   "execution_count": 3,
   "metadata": {},
   "outputs": [
    {
     "data": {
      "text/plain": [
       "(2, 3, 3, 3)"
      ]
     },
     "execution_count": 3,
     "metadata": {},
     "output_type": "execute_result"
    }
   ],
   "source": [
    "D = dist_from_center(C, axes=[1,2,3])\n",
    "D.shape"
   ]
  },
  {
   "cell_type": "code",
   "execution_count": 4,
   "metadata": {},
   "outputs": [
    {
     "name": "stdout",
     "output_type": "stream",
     "text": [
      "(2, 3, 3, 3) (2, 3, 3, 3)\n"
     ]
    }
   ],
   "source": [
    "tps = auto_correlation(C).compute()\n",
    "\n",
    "print(tps.shape, D.shape)\n",
    "\n",
    "assert len(np.argwhere(D==0)) == D.shape[0]\n",
    "assert all(tps[D==0] == np.amax(tps, axis=(1,2,3)))"
   ]
  },
  {
   "cell_type": "markdown",
   "metadata": {},
   "source": [
    "## Run a pair correlation check for 2d\n",
    "\n",
    "In this check I verify that the base pair correlation function works. I am also checking that it is possible to set a threshold on the radius and interpolate to regularly spaced radius values. The accuracy in the 2d case should extend to any number of dimensions since the function flattens the arrays before computing the pair correlations."
   ]
  },
  {
   "cell_type": "code",
   "execution_count": 5,
   "metadata": {},
   "outputs": [
    {
     "name": "stdout",
     "output_type": "stream",
     "text": [
      "(2, 3, 3) (3, 3)\n"
     ]
    }
   ],
   "source": [
    "C = np.array([\n",
    "    [\n",
    "        [0.2, 0.4, 0.3],\n",
    "        [0.4, 0.5, 0.5],\n",
    "        [0.2, 0.5, 0.3]\n",
    "    ],\n",
    "    [\n",
    "        [0.1, 0.2, 0.3],\n",
    "        [0.2, 0.6, 0.4],\n",
    "        [0.1, 0.4, 0.3]\n",
    "    ]\n",
    "])\n",
    "\n",
    "pc_correct = np.array([\n",
    "    [0, 0.5, 0.6],\n",
    "    [1, 0.45, 0.3],\n",
    "    [np.sqrt(2), 0.25, 0.2]\n",
    "])\n",
    "\n",
    "pc_correct_cut = np.array([\n",
    "    [0, 0.5, 0.6],\n",
    "    [1, 0.45, 0.3]\n",
    "])\n",
    "\n",
    "pc_correct_interped = np.array([\n",
    "    [0, 0.5, 0.6],\n",
    "    [np.sqrt(2), 0.25, 0.2]\n",
    "])\n",
    "\n",
    "print(C.shape, pc_correct.shape)"
   ]
  },
  {
   "cell_type": "code",
   "execution_count": 6,
   "metadata": {},
   "outputs": [],
   "source": [
    "assert np.allclose(paircorr_from_twopoint(C), pc_correct)\n",
    "assert np.allclose(paircorr_from_twopoint(C, cutoff_r=1.01), pc_correct_cut)\n",
    "assert np.allclose(paircorr_from_twopoint(C, interpolate_n=2), pc_correct_interped)"
   ]
  },
  {
   "cell_type": "markdown",
   "metadata": {},
   "source": [
    "## Run pair correlations for many 3d samples\n",
    "\n",
    "In the following check, I verify that the `paircorr_from_twopoint` function works for 3d microstructures, dask inputs, and numpy inputs."
   ]
  },
  {
   "cell_type": "markdown",
   "metadata": {},
   "source": [
    "### Dask Workflow"
   ]
  },
  {
   "cell_type": "code",
   "execution_count": 7,
   "metadata": {},
   "outputs": [],
   "source": [
    "# 100 5x5x5 microstructures\n",
    "C = da.random.random((100,5,5,5))\n",
    "\n",
    "assert paircorr_from_twopoint(C) is not None"
   ]
  },
  {
   "cell_type": "markdown",
   "metadata": {},
   "source": [
    "### NumPy Workflow"
   ]
  },
  {
   "cell_type": "code",
   "execution_count": 8,
   "metadata": {},
   "outputs": [],
   "source": [
    "# 100 5x5x5 microstructures\n",
    "C = np.random.rand(100,5,5,5)\n",
    "\n",
    "assert paircorr_from_twopoint(C) is not None"
   ]
  },
  {
   "cell_type": "code",
   "execution_count": null,
   "metadata": {},
   "outputs": [],
   "source": []
  }
 ],
 "metadata": {
  "kernelspec": {
   "display_name": "Python 3",
   "language": "python",
   "name": "python3"
  },
  "language_info": {
   "codemirror_mode": {
    "name": "ipython",
    "version": 3
   },
   "file_extension": ".py",
   "mimetype": "text/x-python",
   "name": "python",
   "nbconvert_exporter": "python",
   "pygments_lexer": "ipython3",
   "version": "3.7.8"
  }
 },
 "nbformat": 4,
 "nbformat_minor": 4
}
