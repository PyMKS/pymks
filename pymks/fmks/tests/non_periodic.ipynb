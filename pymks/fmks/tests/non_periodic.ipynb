{
 "cells": [
  {
   "cell_type": "markdown",
   "metadata": {},
   "source": [
    "# Implement Masking and Test Issue 517\n",
    "\n",
    "Testing for weighted masks and fix [#517](https://github.com/materialsinnovation/pymks/issues/517)."
   ]
  },
  {
   "cell_type": "code",
   "execution_count": 1,
   "metadata": {},
   "outputs": [],
   "source": [
    "import dask.array as da\n",
    "import numpy as np\n",
    "from pymks.fmks import correlations\n",
    "from pymks import plot_microstructures"
   ]
  },
  {
   "cell_type": "code",
   "execution_count": 2,
   "metadata": {},
   "outputs": [],
   "source": [
    "A = da.from_array(np.array([\n",
    "    [\n",
    "        [1, 0, 0],\n",
    "        [0, 1, 1],\n",
    "        [1, 1, 0]\n",
    "    ],\n",
    "    [\n",
    "        [0, 0, 1],\n",
    "        [1, 0, 0],\n",
    "        [0, 0, 1]\n",
    "    ]\n",
    "]))\n",
    "mask = np.ones((2,3,3))\n",
    "mask[:,2,1:] = 0\n",
    "mask = da.from_array(mask)"
   ]
  },
  {
   "cell_type": "code",
   "execution_count": 8,
   "metadata": {},
   "outputs": [
    {
     "data": {
      "image/png": "[encoded data removed]",
      "text/plain": [
       "<Figure size 576x288 with 3 Axes>"
      ]
     },
     "metadata": {
      "needs_background": "light"
     },
     "output_type": "display_data"
    },
    {
     "data": {
      "image/png": "[encoded data removed]",
      "text/plain": [
       "<Figure size 576x288 with 3 Axes>"
      ]
     },
     "metadata": {
      "needs_background": "light"
     },
     "output_type": "display_data"
    }
   ],
   "source": [
    "plot_microstructures(A[0], A[1],\n",
    "                     titles=['Structure[0]', 'Structure[1]'],\n",
    "                     cmap='gray')\n",
    "plot_microstructures(mask[0], mask[1],\n",
    "                     titles=['Mask[0]', 'Mask[1]'],\n",
    "                     cmap='viridis')\n"
   ]
  },
  {
   "cell_type": "markdown",
   "metadata": {},
   "source": [
    "## Check that periodic still works"
   ]
  },
  {
   "cell_type": "code",
   "execution_count": 9,
   "metadata": {},
   "outputs": [],
   "source": [
    "correct = (correlations.cross_correlation(A, A).compute() / 9).round(3).astype(np.float64)\n",
    "tested = correlations.two_point_stats(A, A).compute().round(3).astype(np.float64)\n",
    "assert (correct == tested).all()"
   ]
  },
  {
   "cell_type": "markdown",
   "metadata": {},
   "source": [
    "## Test that non-periodic works"
   ]
  },
  {
   "cell_type": "code",
   "execution_count": 10,
   "metadata": {},
   "outputs": [],
   "source": [
    "correct_nonperiodic = np.array([\n",
    "    [\n",
    "        [1,1,2],\n",
    "        [2,5,2],\n",
    "        [2,1,1]\n",
    "    ],\n",
    "    [\n",
    "        [0,0,0],\n",
    "        [0,3,0],\n",
    "        [0,0,0]\n",
    "    ]\n",
    "])\n",
    "\n",
    "norm_nonperiodic = np.array([\n",
    "    [4,6,4],\n",
    "    [6,9,6],\n",
    "    [4,6,4]\n",
    "])\n",
    "\n",
    "correct = (correct_nonperiodic / norm_nonperiodic).round(3).astype(np.float64)\n",
    "tested = correlations.two_point_stats(A, A, periodic_boundary=False).compute().round(3).astype(np.float64)\n",
    "\n",
    "assert (correct == tested).all()"
   ]
  },
  {
   "cell_type": "markdown",
   "metadata": {},
   "source": [
    "## Check that masking works"
   ]
  },
  {
   "cell_type": "code",
   "execution_count": 11,
   "metadata": {},
   "outputs": [],
   "source": [
    "correct_mask = np.array([\n",
    "    [\n",
    "        [1,0,1],\n",
    "        [1,4,1],\n",
    "        [1,0,1]\n",
    "    ],\n",
    "    [\n",
    "        [0,0,0],\n",
    "        [0,2,0],\n",
    "        [0,0,0]\n",
    "    ]\n",
    "])\n",
    "\n",
    "norm_mask = np.array([\n",
    "    [2,4,3],\n",
    "    [4,7,4],\n",
    "    [3,4,2]\n",
    "])\n",
    "\n",
    "correct = (correct_mask / norm_mask).round(3).astype(np.float64)\n",
    "tested = correlations.two_point_stats(A, A, mask=mask).compute().round(3).astype(np.float64)\n",
    "\n",
    "assert (correct == tested).all()"
   ]
  }
 ],
 "metadata": {
  "kernelspec": {
   "display_name": "Python 3",
   "language": "python",
   "name": "python3"
  },
  "language_info": {
   "codemirror_mode": {
    "name": "ipython",
    "version": 3
   },
   "file_extension": ".py",
   "mimetype": "text/x-python",
   "name": "python",
   "nbconvert_exporter": "python",
   "pygments_lexer": "ipython3",
   "version": "3.7.6"
  }
 },
 "nbformat": 4,
 "nbformat_minor": 4
}
