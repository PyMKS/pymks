{
 "cells": [
  {
   "cell_type": "code",
   "execution_count": 1,
   "metadata": {},
   "outputs": [],
   "source": [
    "import matplotlib.pyplot as plt\n",
    "import dask.array as da\n",
    "import numpy as np"
   ]
  },
  {
   "cell_type": "code",
   "execution_count": 2,
   "metadata": {},
   "outputs": [],
   "source": [
    "def vis(ims, titles=None, cmaps=None):\n",
    "    fig, axs = plt.subplots(1,len(ims),figsize=(4*len(ims), 3))\n",
    "    \n",
    "    axs = axs if isinstance(axs, np.ndarray) else [axs]\n",
    "    \n",
    "    for i, (im, ax) in enumerate( zip(ims, axs) ):\n",
    "        if titles is not None:\n",
    "            ax.set_title(titles[i])\n",
    "            \n",
    "        if cmaps is not None:\n",
    "            im_plot = ax.imshow(im, cmap=cmaps[i])\n",
    "        else:\n",
    "            im_plot = ax.imshow(im)\n",
    "            \n",
    "        if im.dtype != np.bool:\n",
    "            fig.colorbar(im_plot, ax=ax)\n",
    "        \n",
    "    plt.show(fig)"
   ]
  },
  {
   "cell_type": "code",
   "execution_count": 3,
   "metadata": {},
   "outputs": [
    {
     "data": {
      "image/png": "[encoded data removed]",
      "text/plain": [
       "<Figure size 1152x216 with 8 Axes>"
      ]
     },
     "metadata": {
      "needs_background": "light"
     },
     "output_type": "display_data"
    }
   ],
   "source": [
    "A = da.from_array(np.array([\n",
    "    [\n",
    "        [1, 0, 0],\n",
    "        [0, 1, 1],\n",
    "        [1, 1, 0]\n",
    "    ],\n",
    "    [\n",
    "        [0, 0, 1],\n",
    "        [1, 0, 0],\n",
    "        [0, 0, 1]\n",
    "    ]\n",
    "]))\n",
    "mask = np.ones((2,3,3))\n",
    "mask[:,2,1:] = 0\n",
    "mask = da.from_array(mask)\n",
    "show = lambda : vis(\n",
    "    [A[0,...], mask[0,...], A[1,...], mask[1,...]],\n",
    "    ['Structure', 'Mask'] *2,\n",
    "    ['gray', 'viridis']*2\n",
    ")\n",
    "show()"
   ]
  },
  {
   "cell_type": "code",
   "execution_count": 4,
   "metadata": {},
   "outputs": [],
   "source": [
    "from pymks.fmks import correlations"
   ]
  },
  {
   "cell_type": "markdown",
   "metadata": {},
   "source": [
    "## Check that periodic still works"
   ]
  },
  {
   "cell_type": "code",
   "execution_count": 5,
   "metadata": {},
   "outputs": [
    {
     "name": "stdout",
     "output_type": "stream",
     "text": [
      "[[[2. 2. 4.]\n",
      "  [2. 5. 2.]\n",
      "  [4. 2. 2.]]\n",
      "\n",
      " [[1. 1. 1.]\n",
      "  [0. 3. 0.]\n",
      "  [1. 1. 1.]]]\n",
      "[[[0.222 0.222 0.444]\n",
      "  [0.222 0.556 0.222]\n",
      "  [0.444 0.222 0.222]]\n",
      "\n",
      " [[0.111 0.111 0.111]\n",
      "  [0.    0.333 0.   ]\n",
      "  [0.111 0.111 0.111]]]\n",
      "[[[0.222 0.222 0.444]\n",
      "  [0.222 0.556 0.222]\n",
      "  [0.444 0.222 0.222]]\n",
      "\n",
      " [[0.111 0.111 0.111]\n",
      "  [0.    0.333 0.   ]\n",
      "  [0.111 0.111 0.111]]]\n",
      "True\n"
     ]
    }
   ],
   "source": [
    "print( correlations.cross_correlation(A, A).compute() )\n",
    "correct = (correlations.cross_correlation(A, A).compute() / 9).round(3).astype(np.float64)\n",
    "tested = correlations.two_point_stats(A, A).compute().round(3).astype(np.float64)\n",
    "print( correct )\n",
    "print( tested )\n",
    "print((correct == tested).all())"
   ]
  },
  {
   "cell_type": "markdown",
   "metadata": {},
   "source": [
    "## Test that non-periodic works"
   ]
  },
  {
   "cell_type": "code",
   "execution_count": 6,
   "metadata": {},
   "outputs": [
    {
     "data": {
      "image/png": "[encoded data removed]",
      "text/plain": [
       "<Figure size 1152x216 with 8 Axes>"
      ]
     },
     "metadata": {
      "needs_background": "light"
     },
     "output_type": "display_data"
    }
   ],
   "source": [
    "show()"
   ]
  },
  {
   "cell_type": "code",
   "execution_count": 7,
   "metadata": {},
   "outputs": [
    {
     "name": "stdout",
     "output_type": "stream",
     "text": [
      "[[[0.25  0.167 0.5  ]\n",
      "  [0.333 0.556 0.333]\n",
      "  [0.5   0.167 0.25 ]]\n",
      "\n",
      " [[0.    0.    0.   ]\n",
      "  [0.    0.333 0.   ]\n",
      "  [0.    0.    0.   ]]]\n",
      "[[[ 0.25   0.167  0.5  ]\n",
      "  [ 0.333  0.556  0.333]\n",
      "  [ 0.5    0.167  0.25 ]]\n",
      "\n",
      " [[ 0.    -0.     0.   ]\n",
      "  [-0.     0.333 -0.   ]\n",
      "  [ 0.    -0.     0.   ]]]\n",
      "[[[ True  True  True]\n",
      "  [ True  True  True]\n",
      "  [ True  True  True]]\n",
      "\n",
      " [[ True  True  True]\n",
      "  [ True  True  True]\n",
      "  [ True  True  True]]]\n",
      "True\n"
     ]
    }
   ],
   "source": [
    "correct_nonperiodic = np.array([\n",
    "    [\n",
    "        [1,1,2],\n",
    "        [2,5,2],\n",
    "        [2,1,1]\n",
    "    ],\n",
    "    [\n",
    "        [0,0,0],\n",
    "        [0,3,0],\n",
    "        [0,0,0]\n",
    "    ]\n",
    "])\n",
    "\n",
    "norm_nonperiodic = np.array([\n",
    "    [4,6,4],\n",
    "    [6,9,6],\n",
    "    [4,6,4]\n",
    "])\n",
    "\n",
    "correct = (correct_nonperiodic / norm_nonperiodic).round(3).astype(np.float64)\n",
    "tested = correlations.two_point_stats(A, A, periodic_boundary=False).compute().round(3).astype(np.float64)\n",
    "\n",
    "print( correct )\n",
    "print( tested )\n",
    "print( correct == tested)\n",
    "print( (correct == tested).all() )"
   ]
  },
  {
   "cell_type": "markdown",
   "metadata": {},
   "source": [
    "## Check that masking works"
   ]
  },
  {
   "cell_type": "code",
   "execution_count": 8,
   "metadata": {},
   "outputs": [
    {
     "data": {
      "image/png": "[encoded data removed]",
      "text/plain": [
       "<Figure size 1152x216 with 8 Axes>"
      ]
     },
     "metadata": {
      "needs_background": "light"
     },
     "output_type": "display_data"
    }
   ],
   "source": [
    "show()"
   ]
  },
  {
   "cell_type": "code",
   "execution_count": 9,
   "metadata": {},
   "outputs": [
    {
     "name": "stdout",
     "output_type": "stream",
     "text": [
      "[[[0.5   0.    0.333]\n",
      "  [0.25  0.571 0.25 ]\n",
      "  [0.333 0.    0.5  ]]\n",
      "\n",
      " [[0.    0.    0.   ]\n",
      "  [0.    0.286 0.   ]\n",
      "  [0.    0.    0.   ]]]\n",
      "[[[0.5   0.    0.333]\n",
      "  [0.25  0.571 0.25 ]\n",
      "  [0.333 0.    0.5  ]]\n",
      "\n",
      " [[0.    0.    0.   ]\n",
      "  [0.    0.286 0.   ]\n",
      "  [0.    0.    0.   ]]]\n",
      "[[[ True  True  True]\n",
      "  [ True  True  True]\n",
      "  [ True  True  True]]\n",
      "\n",
      " [[ True  True  True]\n",
      "  [ True  True  True]\n",
      "  [ True  True  True]]]\n",
      "True\n"
     ]
    }
   ],
   "source": [
    "correct_mask = np.array([\n",
    "    [\n",
    "        [1,0,1],\n",
    "        [1,4,1],\n",
    "        [1,0,1]\n",
    "    ],\n",
    "    [\n",
    "        [0,0,0],\n",
    "        [0,2,0],\n",
    "        [0,0,0]\n",
    "    ]\n",
    "])\n",
    "\n",
    "norm_mask = np.array([\n",
    "    [2,4,3],\n",
    "    [4,7,4],\n",
    "    [3,4,2]\n",
    "])\n",
    "\n",
    "correct = (correct_mask / norm_mask).round(3).astype(np.float64)\n",
    "tested = correlations.two_point_stats(A, A, mask=mask).compute().round(3).astype(np.float64)\n",
    "\n",
    "print( correct )\n",
    "print( tested )\n",
    "print( correct == tested)\n",
    "print( (correct == tested).all() )"
   ]
  },
  {
   "cell_type": "code",
   "execution_count": null,
   "metadata": {},
   "outputs": [],
   "source": []
  }
 ],
 "metadata": {
  "kernelspec": {
   "display_name": "Python 3",
   "language": "python",
   "name": "python3"
  },
  "language_info": {
   "codemirror_mode": {
    "name": "ipython",
    "version": 3
   },
   "file_extension": ".py",
   "mimetype": "text/x-python",
   "name": "python",
   "nbconvert_exporter": "python",
   "pygments_lexer": "ipython3",
   "version": "3.7.8"
  }
 },
 "nbformat": 4,
 "nbformat_minor": 4
}
