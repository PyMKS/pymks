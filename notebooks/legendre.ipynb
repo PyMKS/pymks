{
 "cells": [
  {
   "cell_type": "code",
   "execution_count": 51,
   "metadata": {},
   "outputs": [],
   "source": [
    "import numpy as np\n",
    "import numpy.polynomial.legendre as leg\n",
    "import dask.array as da\n",
    "import fmks\n",
    "from fmks.func import curry\n",
    "import fmks.bases.legendre as legendre\n",
    "from toolz.curried import pipe\n",
    "\n",
    "@curry\n",
    "def scaled_data(data, domain):\n",
    "    return (2. * data - domain[0] - domain[1]) / (domain[1] - domain[0])\n",
    "\n",
    "\n",
    "@curry\n",
    "def coeff(states):\n",
    "    return np.eye(len(states)) * (states + 0.5)\n",
    "\n",
    "\n",
    "@curry\n",
    "def leg_data(data, coeff):\n",
    "    return leg.legval(data, coeff)\n",
    "\n",
    "\n",
    "@curry\n",
    "def discretize(data, states = np.arange(2), domain=(0, 1)):\n",
    "    return pipe(data[...,None],\n",
    "                scaled_data(domain = domain),\n",
    "                leg_data(coeff = coeff(states)))\n",
    "\n",
    "@curry\n",
    "def legendre_basis(x_data, n_state=2, domain=(0, 1), chunks = (1,)):\n",
    "    return (discretize(da.from_array(x_data, chunks = (1,) + x.shape[1:]),\n",
    "                       np.arange(n_state),\n",
    "                       domain),\n",
    "            lambda x: slice(-1))"
   ]
  },
  {
   "cell_type": "code",
   "execution_count": 36,
   "metadata": {
    "collapsed": true
   },
   "outputs": [],
   "source": [
    "np.random.seed(101)"
   ]
  },
  {
   "cell_type": "code",
   "execution_count": 37,
   "metadata": {
    "collapsed": true
   },
   "outputs": [],
   "source": [
    "shape   = (3, 5, 5)\n",
    "chunks  = (1, 5, 5)\n",
    "domain  = (-1, 1)\n",
    "n_state = 4"
   ]
  },
  {
   "cell_type": "code",
   "execution_count": 38,
   "metadata": {
    "collapsed": true
   },
   "outputs": [],
   "source": [
    "x = 2*np.random.random(shape)"
   ]
  },
  {
   "cell_type": "code",
   "execution_count": 39,
   "metadata": {},
   "outputs": [
    {
     "data": {
      "text/plain": [
       "(3, 5, 5, 4)"
      ]
     },
     "execution_count": 39,
     "metadata": {},
     "output_type": "execute_result"
    }
   ],
   "source": [
    "x_ = legendre.legendre_basis(x, n_state, domain)\n",
    "x_[0].shape"
   ]
  },
  {
   "cell_type": "code",
   "execution_count": 52,
   "metadata": {},
   "outputs": [
    {
     "data": {
      "text/plain": [
       "(3, 5, 5, 4)"
      ]
     },
     "execution_count": 52,
     "metadata": {},
     "output_type": "execute_result"
    }
   ],
   "source": [
    " x_1 = legendre_basis(x, n_state, domain)\n",
    "x_1[0].shape"
   ]
  },
  {
   "cell_type": "code",
   "execution_count": 41,
   "metadata": {},
   "outputs": [
    {
     "data": {
      "text/plain": [
       "True"
      ]
     },
     "execution_count": 41,
     "metadata": {},
     "output_type": "execute_result"
    }
   ],
   "source": [
    "np.allclose(x_[0], x_1[0].compute())"
   ]
  }
 ],
 "metadata": {
  "kernelspec": {
   "display_name": "Python 3",
   "language": "python",
   "name": "python3"
  },
  "language_info": {
   "codemirror_mode": {
    "name": "ipython",
    "version": 3
   },
   "file_extension": ".py",
   "mimetype": "text/x-python",
   "name": "python",
   "nbconvert_exporter": "python",
   "pygments_lexer": "ipython3",
   "version": "3.6.1"
  }
 },
 "nbformat": 4,
 "nbformat_minor": 2
}
