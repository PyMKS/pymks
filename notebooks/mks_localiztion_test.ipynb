{
 "cells": [
  {
   "cell_type": "code",
   "execution_count": 1,
   "metadata": {},
   "outputs": [],
   "source": [
    "%load_ext autoreload\n",
    "%autoreload 2"
   ]
  },
  {
   "cell_type": "code",
   "execution_count": 2,
   "metadata": {
    "collapsed": true
   },
   "outputs": [],
   "source": [
    "import numpy as np\n",
    "from fmks.bases.primitive import primitive_basis\n",
    "from fmks.bases.legendre import legendre_basis\n",
    "from fmks.localization import fit, predict, coeff_to_real\n",
    "np.random.seed(3)\n",
    "X = np.random.random((1, 3, 3))\n",
    "leg_basis = legendre_basis(n_state=2, domain=(0, 1))"
   ]
  },
  {
   "cell_type": "code",
   "execution_count": 3,
   "metadata": {},
   "outputs": [],
   "source": [
    "X_ = leg_basis(X)[0].compute()"
   ]
  },
  {
   "cell_type": "code",
   "execution_count": 4,
   "metadata": {
    "collapsed": true
   },
   "outputs": [],
   "source": [
    "model = fit(basis=leg_basis)"
   ]
  },
  {
   "cell_type": "code",
   "execution_count": 5,
   "metadata": {},
   "outputs": [],
   "source": [
    "FX = np.fft.fftn(X_, axes=(1, 2))\n",
    "FXtest = np.array([[[[4.50000000+0.j, -0.79735949+0.],\n",
    "                     [0.00000000+0.j, -1.00887157-1.48005289j],\n",
    "                     [0.00000000+0.j, -1.00887157+1.48005289j]],\n",
    "                    [[0.00000000+0.j, 0.62300683-4.97732233j],\n",
    "                     [0.00000000+0.j, 1.09318216+0.10131035j],\n",
    "                     [0.00000000+0.j, 0.37713401+1.87334545j]],\n",
    "                    [[0.00000000+0.j, 0.62300683+4.97732233j],\n",
    "                     [0.00000000+0.j, 0.37713401-1.87334545j],\n",
    "                     [0.00000000+0.j, 1.09318216-0.10131035j]]]])\n",
    "assert np.allclose(FX, FXtest)"
   ]
  }
 ],
 "metadata": {
  "kernelspec": {
   "display_name": "Python 3",
   "language": "python",
   "name": "python3"
  },
  "language_info": {
   "codemirror_mode": {
    "name": "ipython",
    "version": 3
   },
   "file_extension": ".py",
   "mimetype": "text/x-python",
   "name": "python",
   "nbconvert_exporter": "python",
   "pygments_lexer": "ipython3",
   "version": "3.6.1"
  }
 },
 "nbformat": 4,
 "nbformat_minor": 2
}
