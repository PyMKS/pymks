{
 "cells": [
  {
   "cell_type": "markdown",
   "metadata": {},
   "source": [
    "# PyMKS Examples\n",
    "\n",
    "This is the starting point for browsing the PyMKS examples. If you are new to PyMKS, then you should start with the [introductory notebook](notebooks/intro.ipynb) to find out how it works and then browse some of the other notebooks in the table of contents. If you need further reading about the materials knowledge system (MKS) then look at the references in the [README.md](./README.md)\n",
    "\n",
    "### Introduction\n",
    "\n",
    " - [Introduction](./notebooks/intro.ipynb)\n",
    "\n",
    "### 2-Point Statistics\n",
    "\n",
    " - [Checkerboard Microstructure](./notebooks/stats_checker_board.ipynb)\n",
    "\n",
    "### Homogenization\n",
    "   \n",
    " - [Effective Stiffness of Composite Material](./notebooks/stress.ipynb)\n",
    " - [Effective Stiffness of Fiber Composite](./notebooks/fiber.ipynb)\n",
    "\n",
    "### Localization\n",
    "   \n",
    " - [Linear Elasticity in 2D](./notebooks/elasticity.ipynb)\n",
    " - [Linear Elasticity in 2D for 3 Phases](./notebooks/multiphase.ipynb)\n",
    " - [Linear Elasticity in 3D](notebooks/elasticity3d.ipynb)\n",
    " - [Filter Example](notebooks/filter.ipynb)\n",
    " - [Cahn-Hilliard Example](notebooks/cahn_hilliard.ipynb)\n",
    " - [Cahn-Hilliard with Primtive and Legendre Bases](notebooks/cahn_hilliard_legendre.ipynb)\n",
    "\n",
    "### Technical Background\n",
    "\n",
    " - [Technical Overview](notebooks/tech_overview.ipynb)\n",
    " - [Derivation of MKS localization](notebooks/derivation.ipynb)\n"
   ]
  },
  {
   "cell_type": "code",
   "execution_count": null,
   "metadata": {},
   "outputs": [],
   "source": []
  }
 ],
 "metadata": {
  "anaconda-cloud": {},
  "kernelspec": {
   "display_name": "Python 3",
   "language": "python",
   "name": "python3"
  },
  "language_info": {
   "codemirror_mode": {
    "name": "ipython",
    "version": 3
   },
   "file_extension": ".py",
   "mimetype": "text/x-python",
   "name": "python",
   "nbconvert_exporter": "python",
   "pygments_lexer": "ipython3",
   "version": "3.6.4"
  }
 },
 "nbformat": 4,
 "nbformat_minor": 1
}
